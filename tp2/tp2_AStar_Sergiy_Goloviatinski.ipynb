{
 "cells": [
  {
   "cell_type": "code",
   "execution_count": null,
   "metadata": {},
   "outputs": [],
   "source": [
    "# %load tp2_AStar_Sergiy_Goloviatinski.py\n",
    "#!/usr/bin/env python3\n",
    "\n",
    "# Sergiy Goloviatinski, inf3dlm-b\n",
    "\n",
    "\n",
    "from city import *\n",
    "from collections import deque\n",
    "from math import sqrt\n",
    "import heapq\n",
    "import inspect\n",
    "import sys\n",
    "\n",
    "def initCitiesFromFile(fileName):\n",
    "    cityDict = {}\n",
    "    with open(fileName) as f:\n",
    "        for c in [l.split() for l in f]:\n",
    "            cityName = c[0]\n",
    "            x = c[1]\n",
    "            y = c[2]\n",
    "            cityDict[cityName] = City(cityName, x, y)\n",
    "    return cityDict\n",
    "\n",
    "\n",
    "def initCityConnections(cityDict, connectionFileName):\n",
    "    with open(connectionFileName) as f:\n",
    "        for c in [l.split() for l in f]:\n",
    "            distance = c[2]\n",
    "            cityA = c[0]\n",
    "            cityB = c[1]\n",
    "            cityDict[cityA].addNeighbour(cityDict[cityB], int(distance))\n",
    "            cityDict[cityB].addNeighbour(cityDict[cityA], int(distance))\n",
    "\n",
    "\n",
    "def getCityStatesNames(collection):\n",
    "    return [citystate.city.name for citystate in collection]\n",
    "\n",
    "def getCityStateFromName(cityName,collection):\n",
    "    for citystate in collection:\n",
    "         if citystate.city.name==cityName:\n",
    "             return citystate\n",
    "    return None\n",
    "\n",
    "# g(x) s'accumulle avec chaque noeud visité (somme des distances parcourues) et h(x) est donné dans le pdf (se réduit à chaque noeud visité vu qu'on se rapproche de la ville d'arrivée)\n",
    "# Fortement inspiré de https://fr.wikipedia.org/wiki/Algorithme_A*\n",
    "def findShortestPathFromAtoB(cityA, cityB, h, printPathInfo=True):\n",
    "    cityState = CityState(cityA,0,h(cityA,cityB))\n",
    "    closedList=deque()\n",
    "    openList=[cityState]\n",
    "    heapq.heapify(openList)\n",
    "\n",
    "    searchCount=0\n",
    "\n",
    "    while len(openList)>0:\n",
    "\n",
    "        cityState=heapq.heappop(openList)\n",
    "\n",
    "        if cityState.city == cityB:\n",
    "            parent=cityState.parent\n",
    "            path=[cityState]\n",
    "            while parent is not None:\n",
    "                path.append(parent)\n",
    "                parent=parent.parent\n",
    "            if printPathInfo:\n",
    "                print(f\"\\tFound path (length = {len(path)}) from {cityA.name} to {cityB.name} after exploring {searchCount} states\")\n",
    "            return list(reversed(path))\n",
    "\n",
    "        searchCount+=1\n",
    "        neighbours = cityState.city.neighbours\n",
    "\n",
    "        for neighbourCity, neighbourDistance in neighbours.items():\n",
    "            neighbourCityState=CityState(neighbourCity,cityState.g+neighbourDistance,h(neighbourCity,cityB) ,cityState)\n",
    "            name=neighbourCityState.city.name\n",
    "\n",
    "            if name in getCityStatesNames(closedList) and neighbourCityState.f >getCityStateFromName(name,closedList).f or name in getCityStatesNames(openList) and neighbourCityState.f > getCityStateFromName(name,openList).f:\n",
    "                pass\n",
    "            else:\n",
    "                heapq.heappush(openList,neighbourCityState)\n",
    "\n",
    "        closedList.append(cityState)\n",
    "\n",
    "cityDict = initCitiesFromFile(\"data/positions.txt\")\n",
    "initCityConnections(cityDict, \"data/connections.txt\")\n",
    "\n",
    "heuristicList=[]\n",
    "\n",
    "h0 = lambda a,b: 0\n",
    "h1 = lambda a,b: abs(a.x-b.x)\n",
    "h2 = lambda a,b: abs(a.y-b.y)\n",
    "h3 = lambda a,b: sqrt(abs(a.x-b.x)**2 + abs(a.y-b.y)**2)\n",
    "h4 = lambda a,b: abs(a.x-b.x) + abs(a.y-b.y)\n",
    "\n",
    "heuristicList.extend([h0,h1,h2,h3,h4])\n",
    "\n",
    "if __name__ == '__main__':\n",
    "\n",
    "    cityTupleList=[]\n",
    "\n",
    "    if len(sys.argv)>1 and (len(sys.argv)-1)%2==0:\n",
    "        for i in range(1,len(sys.argv)-1,2):\n",
    "            try:\n",
    "                cityTupleList.append((cityDict[sys.argv[i].capitalize()],cityDict[sys.argv[i+1].capitalize()]))\n",
    "            except KeyError as e:\n",
    "                raise KeyError(f\"The city you specified ({e.args[0]}) don't exist in our dataset\")\n",
    "    elif len(sys.argv)>1 and (len(sys.argv)-1)%2!=0:\n",
    "        raise Exception(\"The cities must be given by pairs\")\n",
    "    else:\n",
    "        # Default test values\n",
    "        cityTupleList.append((cityDict[\"Bern\"],cityDict[\"Amsterdam\"]))\n",
    "        cityTupleList.append((cityDict[\"Lisbon\"],cityDict[\"Warsaw\"]))\n",
    "\n",
    "\n",
    "    for cityA, cityB in cityTupleList:\n",
    "        print(f\"Find shorthest path from {cityA.name} to {cityB.name} with {len(heuristicList)} different heuristics:\\n\")\n",
    "        for h in heuristicList:\n",
    "            print(f\"\\tHeuristic {inspect.getsource(h)}\")\n",
    "            spaces=[\"\"]\n",
    "            for state in findShortestPathFromAtoB(cityA, cityB, h):\n",
    "                print(f\"\\t\\t{''.join(spaces)}{'⮡ ' if len(spaces)>1 else ''}{state}\")\n",
    "                spaces.append(\" \")\n",
    "            print()\n",
    "        print()\n"
   ]
  },
  {
   "cell_type": "markdown",
   "metadata": {},
   "source": [
    "# Questions"
   ]
  },
  {
   "cell_type": "markdown",
   "metadata": {},
   "source": [
    "## L’utilisation des différentes heuristiques a-t-elle une influence sur l’efficacité de la recherche ?"
   ]
  },
  {
   "cell_type": "markdown",
   "metadata": {},
   "source": [
    "Oui, forcément car par exemple avec l'heuristique h0 ça revient à utiliser un parcours \"breadth-first search\" donc on visitera tous les noeuds à chaque fois avant de trouver l'optimum \n",
    "\n",
    "Plus l'estimation du coût par l'heuristique se rapproche du coût réel, moins de noeuds l'algorithme devra explorer pour trouver le chemin optimum\n",
    "\n",
    "Dans les exemples plus loin dans ce document, on peut constater que le nombre de noeuds explorés avant de trouver le chemin optimum diffère à chaque fois entre les heuristiques"
   ]
  },
  {
   "cell_type": "markdown",
   "metadata": {},
   "source": [
    "## Pouvez-vous trouver des exemples où l’utilisation de différentes heuristiques donne des résultats différents en termes de chemin trouvé ?"
   ]
  },
  {
   "cell_type": "markdown",
   "metadata": {},
   "source": [
    "Vu que l'heuristique h4 qui utilise la distance de Manhattan n'est pas admissible (elle peut surestimer le coût), dans certains cas le chemin trouvé par l'algorithme ne sera pas le même qu'avec les autres heuristiques dans le cas où cette surestimation de coût influencera sur la décision de l'algorithme par quelle ville trouver le chemin le plus court.\n",
    "\n",
    "Vu que les autres heuristiques sont admissibles, elles donneront toujours le même chemin"
   ]
  },
  {
   "cell_type": "markdown",
   "metadata": {},
   "source": [
    "Voici une façon de trouver un tel cas:"
   ]
  },
  {
   "cell_type": "code",
   "execution_count": 10,
   "metadata": {},
   "outputs": [
    {
     "name": "stdout",
     "output_type": "stream",
     "text": [
      "Amsterdam - Prague\n",
      "Brussels - Prague\n",
      "Paris - Prague\n"
     ]
    }
   ],
   "source": [
    "for nameA, cityA in cityDict.items():\n",
    "    for nameB, cityB in cityDict.items():\n",
    "            pathCount=set()\n",
    "            pathCount.add(len(findShortestPathFromAtoB(cityA, cityB, h4,False)))\n",
    "            pathCount.add(len(findShortestPathFromAtoB(cityA, cityB, h3,False)))\n",
    "            if len(pathCount)>1:\n",
    "                print(f\"{nameA} - {nameB}\")\n"
   ]
  },
  {
   "cell_type": "markdown",
   "metadata": {},
   "source": [
    "On peut constater que Brussels - Prague et Paris - Prague passera forcément par Amsterdam donc on peut se concentrer sur le cas Amsterdam - Prague:"
   ]
  },
  {
   "cell_type": "code",
   "execution_count": 11,
   "metadata": {},
   "outputs": [
    {
     "name": "stdout",
     "output_type": "stream",
     "text": [
      "Find shorthest path from Amsterdam to Prague with 5 different heuristics:\n",
      "\n",
      "\tHeuristic h0 = lambda a,b: 0\n",
      "\n",
      "\tFound path (length = 3) from Amsterdam to Prague after exploring 8 states\n",
      "\t\tCityState: Amsterdam, g: 0 h:0 f:0\n",
      "\t\t ⮡ CityState: Munich, g: 526 h:0 f:526\n",
      "\t\t  ⮡ CityState: Prague, g: 700 h:0 f:700\n",
      "\n",
      "\tHeuristic h1 = lambda a,b: abs(a.x-b.x)\n",
      "\n",
      "\tFound path (length = 3) from Amsterdam to Prague after exploring 6 states\n",
      "\t\tCityState: Amsterdam, g: 0 h:383 f:383\n",
      "\t\t ⮡ CityState: Munich, g: 526 h:105 f:631\n",
      "\t\t  ⮡ CityState: Prague, g: 700 h:0 f:700\n",
      "\n",
      "\tHeuristic h2 = lambda a,b: abs(a.y-b.y)\n",
      "\n",
      "\tFound path (length = 3) from Amsterdam to Prague after exploring 6 states\n",
      "\t\tCityState: Amsterdam, g: 0 h:121 f:121\n",
      "\t\t ⮡ CityState: Munich, g: 526 h:140 f:666\n",
      "\t\t  ⮡ CityState: Prague, g: 700 h:0 f:700\n",
      "\n",
      "\tHeuristic h3 = lambda a,b: sqrt(abs(a.x-b.x)**2 + abs(a.y-b.y)**2)\n",
      "\n",
      "\tFound path (length = 3) from Amsterdam to Prague after exploring 5 states\n",
      "\t\tCityState: Amsterdam, g: 0 h:401.6590594023742 f:401.6590594023742\n",
      "\t\t ⮡ CityState: Munich, g: 526 h:175.0 f:701.0\n",
      "\t\t  ⮡ CityState: Prague, g: 700 h:0.0 f:700.0\n",
      "\n",
      "\tHeuristic h4 = lambda a,b: abs(a.x-b.x) + abs(a.y-b.y)\n",
      "\n",
      "\tFound path (length = 4) from Amsterdam to Prague after exploring 4 states\n",
      "\t\tCityState: Amsterdam, g: 0 h:504 f:504\n",
      "\t\t ⮡ CityState: Hamburg, g: 338 h:400 f:738\n",
      "\t\t  ⮡ CityState: Berlin, g: 520 h:208 f:728\n",
      "\t\t   ⮡ CityState: Prague, g: 739 h:0 f:739\n",
      "\n",
      "\n"
     ]
    }
   ],
   "source": [
    "%run tp2_AStar_Sergiy_Goloviatinski.py Amsterdam Prague"
   ]
  },
  {
   "cell_type": "markdown",
   "metadata": {},
   "source": [
    "Dans l'exemple ci-dessus le chemin trouvé avec l'heuristique h4 passe par\n",
    "- Amsterdam -> Hamburg -> Berlin -> Prague \n",
    "\n",
    "à la place de \n",
    "- Amsterdam -> Munich -> Prague \n",
    "\n",
    "comme toutes les autres heuristiques"
   ]
  },
  {
   "cell_type": "markdown",
   "metadata": {},
   "source": [
    "Explications pour la différence de choix à partir d'Amsterdam pour aller à Prague: "
   ]
  },
  {
   "cell_type": "markdown",
   "metadata": {},
   "source": [
    "On analyse la valeur de l'heuristique h4, le coût réel et les distances en x et y entre Munich et Prague:"
   ]
  },
  {
   "cell_type": "code",
   "execution_count": 12,
   "metadata": {
    "scrolled": true
   },
   "outputs": [
    {
     "data": {
      "text/plain": [
       "245"
      ]
     },
     "execution_count": 12,
     "metadata": {},
     "output_type": "execute_result"
    }
   ],
   "source": [
    "h4(cityDict[\"Munich\"],cityDict[\"Prague\"])"
   ]
  },
  {
   "cell_type": "code",
   "execution_count": 13,
   "metadata": {},
   "outputs": [
    {
     "data": {
      "text/plain": [
       "174"
      ]
     },
     "execution_count": 13,
     "metadata": {},
     "output_type": "execute_result"
    }
   ],
   "source": [
    "#distance Munich->Prague\n",
    "cityDict[\"Munich\"].neighbours[cityDict[\"Prague\"]]"
   ]
  },
  {
   "cell_type": "code",
   "execution_count": 14,
   "metadata": {},
   "outputs": [
    {
     "data": {
      "text/plain": [
       "105"
      ]
     },
     "execution_count": 14,
     "metadata": {},
     "output_type": "execute_result"
    }
   ],
   "source": [
    "# distance en valeur absolue en x (h1) entre Munich et Prague\n",
    "h1(cityDict[\"Munich\"],cityDict[\"Prague\"])"
   ]
  },
  {
   "cell_type": "code",
   "execution_count": 15,
   "metadata": {},
   "outputs": [
    {
     "data": {
      "text/plain": [
       "140"
      ]
     },
     "execution_count": 15,
     "metadata": {},
     "output_type": "execute_result"
    }
   ],
   "source": [
    "# distance en valeur absolue en y (h2) entre Munich et Prague\n",
    "h2(cityDict[\"Munich\"],cityDict[\"Prague\"])"
   ]
  },
  {
   "cell_type": "markdown",
   "metadata": {},
   "source": [
    "Et maintenent entre Hamburg et Prague:"
   ]
  },
  {
   "cell_type": "code",
   "execution_count": 16,
   "metadata": {
    "scrolled": false
   },
   "outputs": [
    {
     "data": {
      "text/plain": [
       "400"
      ]
     },
     "execution_count": 16,
     "metadata": {},
     "output_type": "execute_result"
    }
   ],
   "source": [
    "h4(cityDict[\"Hamburg\"],cityDict[\"Prague\"])"
   ]
  },
  {
   "cell_type": "code",
   "execution_count": 17,
   "metadata": {},
   "outputs": [
    {
     "data": {
      "text/plain": [
       "401"
      ]
     },
     "execution_count": 17,
     "metadata": {},
     "output_type": "execute_result"
    }
   ],
   "source": [
    "#distance Hamburg->Prague en passant par Berlin\n",
    "cityDict[\"Hamburg\"].neighbours[cityDict[\"Berlin\"]] + cityDict[\"Berlin\"].neighbours[cityDict[\"Prague\"]]"
   ]
  },
  {
   "cell_type": "code",
   "execution_count": 18,
   "metadata": {},
   "outputs": [
    {
     "data": {
      "text/plain": [
       "200"
      ]
     },
     "execution_count": 18,
     "metadata": {},
     "output_type": "execute_result"
    }
   ],
   "source": [
    "# distance en valeur absolue en x (h1) entre Munich et Prague\n",
    "h1(cityDict[\"Hamburg\"],cityDict[\"Prague\"])"
   ]
  },
  {
   "cell_type": "code",
   "execution_count": 19,
   "metadata": {},
   "outputs": [
    {
     "data": {
      "text/plain": [
       "200"
      ]
     },
     "execution_count": 19,
     "metadata": {},
     "output_type": "execute_result"
    }
   ],
   "source": [
    "# distance en valeur absolue en y (h2) entre Munich et Prague\n",
    "h2(cityDict[\"Hamburg\"],cityDict[\"Prague\"])"
   ]
  },
  {
   "cell_type": "markdown",
   "metadata": {},
   "source": [
    "L'heuristique h4 surestime le coût entre Munich et Prague, ça aurait aussi été le cas entre Hamburg et Prague, d'autant plus que la différence en x et y entre ces deux villes est égale donc c'est la pire surestimation possible pour cette heuristique, sauf que il n'y a pas de connexion directe, donc vu qu'il faut passer par Berlin pour aller de Hamburg à Prague cette surestimation s'estompe avec l'addition du coût réel Berlin->Prague (c'était limite en plus vu que le coût réel est de 1 plus grand que l'estimation)"
   ]
  },
  {
   "cell_type": "markdown",
   "metadata": {},
   "source": [
    "## Dans un cas réel, quelle heuristique utiliseriez-vous ?"
   ]
  },
  {
   "cell_type": "code",
   "execution_count": 20,
   "metadata": {
    "scrolled": false
   },
   "outputs": [
    {
     "name": "stdout",
     "output_type": "stream",
     "text": [
      "Find shorthest path from Lisbon to Warsaw with 5 different heuristics:\n",
      "\n",
      "\tHeuristic h0 = lambda a,b: 0\n",
      "\n",
      "\tFound path (length = 8) from Lisbon to Warsaw after exploring 19 states\n",
      "\t\tCityState: Lisbon, g: 0 h:0 f:0\n",
      "\t\t ⮡ CityState: Madrid, g: 339 h:0 f:339\n",
      "\t\t  ⮡ CityState: Paris, g: 1144 h:0 f:1144\n",
      "\t\t   ⮡ CityState: Brussels, g: 1369 h:0 f:1369\n",
      "\t\t    ⮡ CityState: Amsterdam, g: 1533 h:0 f:1533\n",
      "\t\t     ⮡ CityState: Hamburg, g: 1871 h:0 f:1871\n",
      "\t\t      ⮡ CityState: Berlin, g: 2053 h:0 f:2053\n",
      "\t\t       ⮡ CityState: Warsaw, g: 2398 h:0 f:2398\n",
      "\n",
      "\tHeuristic h1 = lambda a,b: abs(a.x-b.x)\n",
      "\n",
      "\tFound path (length = 8) from Lisbon to Warsaw after exploring 18 states\n",
      "\t\tCityState: Lisbon, g: 0 h:1280 f:1280\n",
      "\t\t ⮡ CityState: Madrid, g: 339 h:1036 f:1375\n",
      "\t\t  ⮡ CityState: Paris, g: 1144 h:723 f:1867\n",
      "\t\t   ⮡ CityState: Brussels, g: 1369 h:644 f:2013\n",
      "\t\t    ⮡ CityState: Amsterdam, g: 1533 h:618 f:2151\n",
      "\t\t     ⮡ CityState: Hamburg, g: 1871 h:435 f:2306\n",
      "\t\t      ⮡ CityState: Berlin, g: 2053 h:287 f:2340\n",
      "\t\t       ⮡ CityState: Warsaw, g: 2398 h:0 f:2398\n",
      "\n",
      "\tHeuristic h2 = lambda a,b: abs(a.y-b.y)\n",
      "\n",
      "\tFound path (length = 8) from Lisbon to Warsaw after exploring 20 states\n",
      "\t\tCityState: Lisbon, g: 0 h:853 f:853\n",
      "\t\t ⮡ CityState: Madrid, g: 339 h:766 f:1105\n",
      "\t\t  ⮡ CityState: Paris, g: 1144 h:279 f:1423\n",
      "\t\t   ⮡ CityState: Brussels, g: 1369 h:157 f:1526\n",
      "\t\t    ⮡ CityState: Amsterdam, g: 1533 h:53 f:1586\n",
      "\t\t     ⮡ CityState: Hamburg, g: 1871 h:26 f:1897\n",
      "\t\t      ⮡ CityState: Berlin, g: 2053 h:18 f:2071\n",
      "\t\t       ⮡ CityState: Warsaw, g: 2398 h:0 f:2398\n",
      "\n",
      "\tHeuristic h3 = lambda a,b: sqrt(abs(a.x-b.x)**2 + abs(a.y-b.y)**2)\n",
      "\n",
      "\tFound path (length = 8) from Lisbon to Warsaw after exploring 16 states\n",
      "\t\tCityState: Lisbon, g: 0 h:1538.1836691370768 f:1538.1836691370768\n",
      "\t\t ⮡ CityState: Madrid, g: 339 h:1288.430052428148 f:1627.430052428148\n",
      "\t\t  ⮡ CityState: Paris, g: 1144 h:774.9645153166692 f:1918.9645153166693\n",
      "\t\t   ⮡ CityState: Brussels, g: 1369 h:662.8612222780874 f:2031.8612222780876\n",
      "\t\t    ⮡ CityState: Amsterdam, g: 1533 h:620.2684902524068 f:2153.268490252407\n",
      "\t\t     ⮡ CityState: Hamburg, g: 1871 h:435.7763187691594 f:2306.7763187691594\n",
      "\t\t      ⮡ CityState: Berlin, g: 2053 h:287.563905940923 f:2340.563905940923\n",
      "\t\t       ⮡ CityState: Warsaw, g: 2398 h:0.0 f:2398.0\n",
      "\n",
      "\tHeuristic h4 = lambda a,b: abs(a.x-b.x) + abs(a.y-b.y)\n",
      "\n",
      "\tFound path (length = 8) from Lisbon to Warsaw after exploring 13 states\n",
      "\t\tCityState: Lisbon, g: 0 h:2133 f:2133\n",
      "\t\t ⮡ CityState: Madrid, g: 339 h:1802 f:2141\n",
      "\t\t  ⮡ CityState: Paris, g: 1144 h:1002 f:2146\n",
      "\t\t   ⮡ CityState: Brussels, g: 1369 h:801 f:2170\n",
      "\t\t    ⮡ CityState: Amsterdam, g: 1533 h:671 f:2204\n",
      "\t\t     ⮡ CityState: Hamburg, g: 1871 h:461 f:2332\n",
      "\t\t      ⮡ CityState: Berlin, g: 2053 h:305 f:2358\n",
      "\t\t       ⮡ CityState: Warsaw, g: 2398 h:0 f:2398\n",
      "\n",
      "\n",
      "Find shorthest path from Copenhagen to Naples with 5 different heuristics:\n",
      "\n",
      "\tHeuristic h0 = lambda a,b: 0\n",
      "\n",
      "\tFound path (length = 7) from Copenhagen to Naples after exploring 20 states\n",
      "\t\tCityState: Copenhagen, g: 0 h:0 f:0\n",
      "\t\t ⮡ CityState: Hamburg, g: 180 h:0 f:180\n",
      "\t\t  ⮡ CityState: Berlin, g: 362 h:0 f:362\n",
      "\t\t   ⮡ CityState: Prague, g: 581 h:0 f:581\n",
      "\t\t    ⮡ CityState: Munich, g: 755 h:0 f:755\n",
      "\t\t     ⮡ CityState: Rome, g: 1337 h:0 f:1337\n",
      "\t\t      ⮡ CityState: Naples, g: 1471 h:0 f:1471\n",
      "\n",
      "\tHeuristic h1 = lambda a,b: abs(a.x-b.x)\n",
      "\n",
      "\tFound path (length = 7) from Copenhagen to Naples after exploring 15 states\n",
      "\t\tCityState: Copenhagen, g: 0 h:183 f:183\n",
      "\t\t ⮡ CityState: Hamburg, g: 180 h:270 f:450\n",
      "\t\t  ⮡ CityState: Berlin, g: 362 h:122 f:484\n",
      "\t\t   ⮡ CityState: Prague, g: 581 h:70 f:651\n",
      "\t\t    ⮡ CityState: Munich, g: 755 h:175 f:930\n",
      "\t\t     ⮡ CityState: Rome, g: 1337 h:96 f:1433\n",
      "\t\t      ⮡ CityState: Naples, g: 1471 h:0 f:1471\n",
      "\n",
      "\tHeuristic h2 = lambda a,b: abs(a.y-b.y)\n",
      "\n",
      "\tFound path (length = 7) from Copenhagen to Naples after exploring 15 states\n",
      "\t\tCityState: Copenhagen, g: 0 h:923 f:923\n",
      "\t\t ⮡ CityState: Hamburg, g: 180 h:775 f:955\n",
      "\t\t  ⮡ CityState: Berlin, g: 362 h:731 f:1093\n",
      "\t\t   ⮡ CityState: Prague, g: 581 h:575 f:1156\n",
      "\t\t    ⮡ CityState: Munich, g: 755 h:435 f:1190\n",
      "\t\t     ⮡ CityState: Rome, g: 1337 h:52 f:1389\n",
      "\t\t      ⮡ CityState: Naples, g: 1471 h:0 f:1471\n",
      "\n",
      "\tHeuristic h3 = lambda a,b: sqrt(abs(a.x-b.x)**2 + abs(a.y-b.y)**2)\n",
      "\n",
      "\tFound path (length = 7) from Copenhagen to Naples after exploring 11 states\n",
      "\t\tCityState: Copenhagen, g: 0 h:940.966524377993 f:940.966524377993\n",
      "\t\t ⮡ CityState: Hamburg, g: 180 h:820.6856889211606 f:1000.6856889211606\n",
      "\t\t  ⮡ CityState: Berlin, g: 362 h:741.1106530066884 f:1103.1106530066884\n",
      "\t\t   ⮡ CityState: Prague, g: 581 h:579.2451985126851 f:1160.245198512685\n",
      "\t\t    ⮡ CityState: Munich, g: 755 h:468.8816481800072 f:1223.8816481800072\n",
      "\t\t     ⮡ CityState: Rome, g: 1337 h:109.17875251164945 f:1446.1787525116495\n",
      "\t\t      ⮡ CityState: Naples, g: 1471 h:0.0 f:1471.0\n",
      "\n",
      "\tHeuristic h4 = lambda a,b: abs(a.x-b.x) + abs(a.y-b.y)\n",
      "\n",
      "\tFound path (length = 7) from Copenhagen to Naples after exploring 8 states\n",
      "\t\tCityState: Copenhagen, g: 0 h:1106 f:1106\n",
      "\t\t ⮡ CityState: Hamburg, g: 180 h:1045 f:1225\n",
      "\t\t  ⮡ CityState: Berlin, g: 362 h:853 f:1215\n",
      "\t\t   ⮡ CityState: Prague, g: 581 h:645 f:1226\n",
      "\t\t    ⮡ CityState: Munich, g: 755 h:610 f:1365\n",
      "\t\t     ⮡ CityState: Rome, g: 1337 h:148 f:1485\n",
      "\t\t      ⮡ CityState: Naples, g: 1471 h:0 f:1471\n",
      "\n",
      "\n"
     ]
    }
   ],
   "source": [
    "%run tp2_AStar_Sergiy_Goloviatinski.py lisbon warsaw copenhagen naples"
   ]
  },
  {
   "cell_type": "markdown",
   "metadata": {},
   "source": [
    "Si on regarde que le nombre de noeuds explorés avant de trouver le chemin le plus court, on aurait tendance à vouloir utiliser h4 vu que c'est avec cette heuristique que ce nombre est le plus petit.\n",
    "\n",
    "Cependant, comme montré dans la question précédente cette heuristique n'est pas admissible donc elle risque de ne pas toujours donner le chemin le plus court, donc j'aurais utilisé l'heuristique h3 car c'est celle qui trouve le plus vite après h4 le chemin le plus court."
   ]
  }
 ],
 "metadata": {
  "kernelspec": {
   "display_name": "Python 3",
   "language": "python",
   "name": "python3"
  },
  "language_info": {
   "codemirror_mode": {
    "name": "ipython",
    "version": 3
   },
   "file_extension": ".py",
   "mimetype": "text/x-python",
   "name": "python",
   "nbconvert_exporter": "python",
   "pygments_lexer": "ipython3",
   "version": "3.6.6"
  }
 },
 "nbformat": 4,
 "nbformat_minor": 2
}
