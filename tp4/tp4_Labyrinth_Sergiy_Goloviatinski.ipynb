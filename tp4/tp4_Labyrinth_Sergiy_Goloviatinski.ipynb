{
 "cells": [
  {
   "cell_type": "code",
   "execution_count": 1,
   "metadata": {},
   "outputs": [],
   "source": [
    "import numpy as np\n",
    "import random\n",
    "import matplotlib.pyplot as plt"
   ]
  },
  {
   "cell_type": "markdown",
   "metadata": {},
   "source": [
    "# IA - Labyrinth"
   ]
  },
  {
   "cell_type": "code",
   "execution_count": 2,
   "metadata": {},
   "outputs": [],
   "source": [
    "def generate_labyrinth(width, height, wall_ratio=0.3):\n",
    "    \"\"\" Randomly generates the labyrinth matrix, the values are:\n",
    "    0 if the cell is free\n",
    "    1 if there is a wall\n",
    "    :param width int: width of the matrix\n",
    "    :param height int: height of the matrix\n",
    "    :wall_ratio float: chance for a cell to be a wall\n",
    "    :return: tuple composed of:\n",
    "    <matrix>: numpy 2d array\n",
    "    <start_cell>: tuple of i, j indices for the start cell\n",
    "    <end_cell>: tuple of i, j indices for the end cell\n",
    "    \"\"\"\n",
    "    grid = np.random.rand(width, height)\n",
    "    grid[grid >= 1 - wall_ratio] = 1\n",
    "    grid[grid < 1 - wall_ratio] = 0\n",
    "    free_cell_top = [i for i in range(0, width) if grid[0][i] != 1]\n",
    "    start_idx = random.choice(free_cell_top)\n",
    "    start_cell = (0, start_idx)\n",
    "    free_cell_bottom = [i for i in range(0, width) if grid[-1][i] != 1]\n",
    "    end_idx = random.choice(free_cell_bottom)\n",
    "    end_cell = (height - 1, end_idx)\n",
    "    return grid, start_cell, end_cell"
   ]
  },
  {
   "cell_type": "code",
   "execution_count": 10,
   "metadata": {},
   "outputs": [],
   "source": [
    "def display_labyrinth(grid, start_cell, end_cell, solution=None):\n",
    "    \"\"\" Display the labyrinth matrix and possibly the solution with matplotlib.\n",
    "    Free cell will be in light gray.\n",
    "    Wall cells will be in dark gray.\n",
    "    Start and end cells will be in dark blue.\n",
    "    Path cells (start, end excluded) will be in light blue.\n",
    "    :param grid np.array: labyrinth matrix\n",
    "    :param start_cell: tuple of i, j indices for the start cell\n",
    "    :param end_cell: tuple of i, j indices for the end cell\n",
    "    :param solution: list of successive tuple i, j indices who forms the path\n",
    "    \"\"\"\n",
    "    grid = np.array(grid, copy=True)\n",
    "    FREE_CELL = 19\n",
    "    WALL_CELL = 16\n",
    "    START = 0\n",
    "    END = 0\n",
    "    PATH = 2\n",
    "    grid[grid == 0] = FREE_CELL\n",
    "    grid[grid == 1] = WALL_CELL\n",
    "    grid[start_cell] = START\n",
    "    grid[end_cell] = END\n",
    "    if solution:\n",
    "        solution = solution[1:-1]\n",
    "        for cell in solution:\n",
    "            grid[cell] = PATH\n",
    "    else:\n",
    "        print(\"No solution has been found\")\n",
    "    plt.matshow(grid, cmap=\"tab20c\")"
   ]
  },
  {
   "cell_type": "code",
   "execution_count": 12,
   "metadata": {},
   "outputs": [],
   "source": [
    "grid, start_cell, end_cell = generate_labyrinth(10, 10)"
   ]
  },
  {
   "cell_type": "code",
   "execution_count": 13,
   "metadata": {
    "slideshow": {
     "slide_type": "slide"
    }
   },
   "outputs": [
    {
     "name": "stdout",
     "output_type": "stream",
     "text": [
      "No solution has been found\n"
     ]
    },
    {
     "data": {
      "image/png": "[encoded data removed]",
      "text/plain": [
       "<Figure size 288x288 with 1 Axes>"
      ]
     },
     "metadata": {
      "needs_background": "light"
     },
     "output_type": "display_data"
    }
   ],
   "source": [
    "display_labyrinth(grid, start_cell, end_cell)"
   ]
  },
  {
   "cell_type": "code",
   "execution_count": null,
   "metadata": {},
   "outputs": [],
   "source": []
  }
 ],
 "metadata": {
  "kernelspec": {
   "display_name": "Python 3",
   "language": "python",
   "name": "python3"
  },
  "language_info": {
   "codemirror_mode": {
    "name": "ipython",
    "version": 3
   },
   "file_extension": ".py",
   "mimetype": "text/x-python",
   "name": "python",
   "nbconvert_exporter": "python",
   "pygments_lexer": "ipython3",
   "version": "3.6.6"
  }
 },
 "nbformat": 4,
 "nbformat_minor": 2
}
